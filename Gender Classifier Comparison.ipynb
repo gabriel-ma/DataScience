{
 "cells": [
  {
   "cell_type": "code",
   "execution_count": 16,
   "metadata": {},
   "outputs": [
    {
     "name": "stdout",
     "output_type": "stream",
     "text": [
      "[array(['male'],\n",
      "      dtype='<U6'), array(['female'],\n",
      "      dtype='<U6'), array(['male'],\n",
      "      dtype='<U6'), array(['male'],\n",
      "      dtype='<U6')]\n"
     ]
    }
   ],
   "source": [
    "from sklearn import tree\n",
    "from sklearn.neural_network import MLPClassifier\n",
    "from sklearn.neighbors import KNeighborsClassifier\n",
    "from sklearn.svm import SVC\n",
    "from sklearn.metrics import accuracy_score\n",
    "\n",
    "clf = tree.DecisionTreeClassifier()\n",
    "\n",
    "clf1 = MLPClassifier()\n",
    "clf2 = KNeighborsClassifier()\n",
    "clf3 = SVC()\n",
    "\n",
    "# CHALLENGE - create 3 more classifiers...\n",
    "# 1\n",
    "# 2\n",
    "# 3\n",
    "\n",
    "# [height, weight, shoe_size]\n",
    "X = [[181, 80, 44], [177, 70, 43], [160, 60, 38], [154, 54, 37], [166, 65, 40],\n",
    "     [190, 90, 47], [175, 64, 39],\n",
    "     [177, 70, 40], [159, 55, 37], [171, 75, 42], [181, 85, 43]]\n",
    "\n",
    "Y = ['male', 'male', 'female', 'female', 'male', 'male', 'female', 'female',\n",
    "     'female', 'male', 'male']\n",
    "\n",
    "clf = clf.fit(X,Y)\n",
    "clf1 = clf1.fit(X,Y)\n",
    "clf2 = clf2.fit(X,Y)\n",
    "clf3 = clf3.fit(X,Y)\n",
    "\n",
    "prediction = clf.predict([[177,90,44]])\n",
    "prediction1 = clf1.predict([[177,90,44]])\n",
    "prediction2 = clf2.predict([[177,90,44]])\n",
    "prediction3 = clf3.predict([[177,90,44]])\n",
    "vector = [prediction, prediction1, prediction2, prediction3]\n",
    "#acc = []\n",
    "#for v in vector:\n",
    "#    acc.append(accuracy_score(Y, v) * 100)\n",
    "\n",
    "print(vector)\n",
    "#print(acc)"
   ]
  },
  {
   "cell_type": "code",
   "execution_count": null,
   "metadata": {
    "collapsed": true
   },
   "outputs": [],
   "source": []
  }
 ],
 "metadata": {
  "kernelspec": {
   "display_name": "Python 3",
   "language": "python",
   "name": "python3"
  },
  "language_info": {
   "codemirror_mode": {
    "name": "ipython",
    "version": 3
   },
   "file_extension": ".py",
   "mimetype": "text/x-python",
   "name": "python",
   "nbconvert_exporter": "python",
   "pygments_lexer": "ipython3",
   "version": "3.6.2"
  }
 },
 "nbformat": 4,
 "nbformat_minor": 2
}
